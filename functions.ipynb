{
 "cells": [
  {
   "cell_type": "code",
   "execution_count": 1,
   "id": "0bdc87d0-da88-4b6a-b5e4-9a1611adaf25",
   "metadata": {},
   "outputs": [
    {
     "name": "stdout",
     "output_type": "stream",
     "text": [
      "9 x 1 = 9\n",
      "9 x 2 = 18\n",
      "9 x 3 = 27\n",
      "9 x 4 = 36\n",
      "9 x 5 = 45\n",
      "9 x 6 = 54\n",
      "9 x 7 = 63\n",
      "9 x 8 = 72\n",
      "9 x 9 = 81\n",
      "9 x 10 = 90\n"
     ]
    }
   ],
   "source": [
    "def show_table(n):\n",
    "    \"\"\"\n",
    "    This function displays the multiplication table of the given number\n",
    "    \"\"\"\n",
    "    for x in range(1, 11):\n",
    "        print(f\"{n} x {x} = {n * x}\")\n",
    "\n",
    "show_table(9)"
   ]
  },
  {
   "cell_type": "code",
   "execution_count": 2,
   "id": "005d40cd-4a47-4a94-a4f5-2b419e83287d",
   "metadata": {},
   "outputs": [
    {
     "name": "stdout",
     "output_type": "stream",
     "text": [
      "3 & 5\n",
      "5 & 7\n",
      "11 & 13\n",
      "17 & 19\n",
      "29 & 31\n",
      "41 & 43\n",
      "59 & 61\n",
      "71 & 73\n"
     ]
    }
   ],
   "source": [
    "def is_prime_number(x):\n",
    "    if x < 2:\n",
    "        return False\n",
    "    for j in range(2, int(x**0.5) + 1):\n",
    "        if x % j == 0:\n",
    "            return False\n",
    "    return True\n",
    "\n",
    "def display_twin_primes(upto):\n",
    "    \"\"\"\n",
    "    This function displays twin prime numbers up to a certain limit\n",
    "    \"\"\"\n",
    "    for y in range(3, upto - 1):\n",
    "        if is_prime_number(y) and is_prime_number(y + 2):\n",
    "            print(f\"{y} & {y + 2}\")\n",
    "\n",
    "display_twin_primes(100)\n"
   ]
  },
  {
   "cell_type": "code",
   "execution_count": 3,
   "id": "b0eb524e-e74b-449a-9cf7-97ac1daac274",
   "metadata": {},
   "outputs": [
    {
     "name": "stdout",
     "output_type": "stream",
     "text": [
      "[2, 2, 2, 7]\n"
     ]
    }
   ],
   "source": [
    "def find_prime_factors(value):\n",
    "    \"\"\"\n",
    "    This function returns the prime factors of the given number\n",
    "    \"\"\"\n",
    "    result = []\n",
    "    d = 2\n",
    "    while value > 1:\n",
    "        while value % d == 0:\n",
    "            result.append(d)\n",
    "            value //= d\n",
    "        d += 1\n",
    "    return result\n",
    "\n",
    "print(find_prime_factors(56))\n"
   ]
  },
  {
   "cell_type": "code",
   "execution_count": 4,
   "id": "73706cf2-e464-4622-b8de-45111ab80235",
   "metadata": {},
   "outputs": [
    {
     "name": "stdout",
     "output_type": "stream",
     "text": [
      "1101\n"
     ]
    }
   ],
   "source": [
    "def convert_to_binary(dec):\n",
    "    \"\"\"\n",
    "    Converts a decimal number to binary\n",
    "    \"\"\"\n",
    "    binary = \"\"\n",
    "    if dec == 0:\n",
    "        return \"0\"\n",
    "    while dec > 0:\n",
    "        binary = str(dec % 2) + binary\n",
    "        dec //= 2\n",
    "    return binary\n",
    "\n",
    "print(convert_to_binary(13))\n"
   ]
  },
  {
   "cell_type": "code",
   "execution_count": 5,
   "id": "fdf55704-bc6c-4f7c-bd28-f48015a295d0",
   "metadata": {},
   "outputs": [
    {
     "name": "stdout",
     "output_type": "stream",
     "text": [
      "[0, 6, 28]\n"
     ]
    }
   ],
   "source": [
    "def list_perfect_numbers(start_val, end_val):\n",
    "    \"\"\"\n",
    "    Finds perfect numbers within the given range\n",
    "    \"\"\"\n",
    "    full_numbers = []\n",
    "    for number in range(start_val, end_val):\n",
    "        total = 0\n",
    "        for div in range(1, number):\n",
    "            if number % div == 0:\n",
    "                total += div\n",
    "        if total == number:\n",
    "            full_numbers.append(number)\n",
    "    return full_numbers\n",
    "\n",
    "print(list_perfect_numbers(0, 100))\n"
   ]
  },
  {
   "cell_type": "code",
   "execution_count": null,
   "id": "f24b5468-66d8-4fec-bde7-bc46ef72b8b3",
   "metadata": {},
   "outputs": [],
   "source": []
  }
 ],
 "metadata": {
  "kernelspec": {
   "display_name": "Python 3 (ipykernel)",
   "language": "python",
   "name": "python3"
  },
  "language_info": {
   "codemirror_mode": {
    "name": "ipython",
    "version": 3
   },
   "file_extension": ".py",
   "mimetype": "text/x-python",
   "name": "python",
   "nbconvert_exporter": "python",
   "pygments_lexer": "ipython3",
   "version": "3.12.4"
  }
 },
 "nbformat": 4,
 "nbformat_minor": 5
}
