{
  "nbformat": 4,
  "nbformat_minor": 0,
  "metadata": {
    "colab": {
      "provenance": []
    },
    "kernelspec": {
      "name": "python3",
      "display_name": "Python 3"
    },
    "language_info": {
      "name": "python"
    }
  },
  "cells": [
    {
      "cell_type": "code",
      "source": [
        "encoded_text = '###!!@mocleW EPGTQ!!!6789'\n",
        "\n",
        "hidden_part = encoded_text[6:18]\n",
        "split_words = hidden_part.split()\n",
        "\n",
        "first_word = split_words[0]\n",
        "first_word = first_word[::-1] + 'e'\n",
        "\n",
        "second_word = split_words[1]\n",
        "second_word = second_word[1:]\n",
        "\n",
        "decoded_message = first_word + ' ' + second_word\n",
        "print(decoded_message)\n"
      ],
      "metadata": {
        "colab": {
          "base_uri": "https://localhost:8080/"
        },
        "id": "mSbMix0ffH0r",
        "outputId": "863766f2-0848-4235-abf4-8c0f4c5198cf"
      },
      "execution_count": 11,
      "outputs": [
        {
          "output_type": "stream",
          "name": "stdout",
          "text": [
            "Welcome PGTQ\n"
          ]
        }
      ]
    }
  ]
}