{
  "nbformat": 4,
  "nbformat_minor": 0,
  "metadata": {
    "colab": {
      "provenance": []
    },
    "kernelspec": {
      "name": "python3",
      "display_name": "Python 3"
    },
    "language_info": {
      "name": "python"
    }
  },
  "cells": [
    {
      "cell_type": "code",
      "source": [
        "word_list = [\"Welcome\", \"Ali\", \"Hi\", \"Ali\", \"No\", \"Hi\", \"No\", \"Ali\", \"No\", \"Ali\"]\n",
        "unique_set = set(word_list)\n",
        "word_counts = {w: 0 for w in unique_set}\n",
        "for i in unique_set:\n",
        "    for j in word_list:\n",
        "        if i == j:\n",
        "            word_counts[i] += 1\n",
        "word_counts"
      ],
      "metadata": {
        "colab": {
          "base_uri": "https://localhost:8080/"
        },
        "id": "HjJL0MfeFZF8",
        "outputId": "64573932-0857-4415-f6c5-e67131c4a12d"
      },
      "execution_count": 8,
      "outputs": [
        {
          "output_type": "execute_result",
          "data": {
            "text/plain": [
              "{'Hi': 2, 'Welcome': 1, 'No': 3, 'Ali': 4}"
            ]
          },
          "metadata": {},
          "execution_count": 8
        }
      ]
    },
    {
      "cell_type": "code",
      "source": [
        "# Function\n",
        "\n",
        "def count_unique_words(word_list):\n",
        "    \"\"\"\n",
        "   Counts how many times each word appears in a given list.\n",
        "\n",
        "Parameters:\n",
        "    words (list): A list of strings to analyze.\n",
        "\n",
        "Returns:\n",
        "    dict: A dictionary where each key is a word and each value is its frequency.\n",
        "    \"\"\"\n",
        "    unique_set = set(word_list)\n",
        "    word_count = {word: 0 for word in unique_set}\n",
        "    for i in unique_set:\n",
        "        for j in word_list:\n",
        "            if i == j:\n",
        "                word_count[i] += 1\n",
        "    return word_count\n",
        "word_list = [\"Welcome\", \"Ali\", \"Hi\", \"Ali\", \"No\", \"Hi\", \"No\", \"Ali\", \"No\", \"Ali\"]\n",
        "count_unique_words(word_list)"
      ],
      "metadata": {
        "colab": {
          "base_uri": "https://localhost:8080/"
        },
        "id": "pnCLSkp6JPyL",
        "outputId": "88184efd-ea4d-4721-a2b6-9b6c7fdec247"
      },
      "execution_count": 9,
      "outputs": [
        {
          "output_type": "execute_result",
          "data": {
            "text/plain": [
              "{'Hi': 2, 'Welcome': 1, 'No': 3, 'Ali': 4}"
            ]
          },
          "metadata": {},
          "execution_count": 9
        }
      ]
    }
  ]
}