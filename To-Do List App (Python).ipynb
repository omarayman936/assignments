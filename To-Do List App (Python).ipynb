{
 "cells": [
  {
   "cell_type": "code",
   "execution_count": 1,
   "id": "38635313-2a95-4a8a-8857-377a8a528bfb",
   "metadata": {},
   "outputs": [],
   "source": [
    "FILENAME = \"tasks.txt\""
   ]
  },
  {
   "cell_type": "code",
   "execution_count": 2,
   "id": "86511308-6bb2-4322-bb2b-75139a59c945",
   "metadata": {},
   "outputs": [],
   "source": [
    "def load_tasks():\n",
    "    try:\n",
    "        with open(FILENAME, \"r\") as file:\n",
    "            tasks = [line.strip() for line in file.readlines()]\n",
    "    except FileNotFoundError:\n",
    "        tasks = []\n",
    "    return tasks"
   ]
  },
  {
   "cell_type": "code",
   "execution_count": 3,
   "id": "7be2642d-ca2c-460e-a655-f6343342bcc1",
   "metadata": {},
   "outputs": [],
   "source": [
    "def save_tasks(tasks):\n",
    "    with open(FILENAME, \"w\") as file:\n",
    "        for task in tasks:\n",
    "            file.write(task + \"\\n\")"
   ]
  },
  {
   "cell_type": "code",
   "execution_count": 4,
   "id": "9b3f569c-8e7a-4653-9fdd-d208e9ea17a6",
   "metadata": {},
   "outputs": [],
   "source": [
    "def display_tasks(tasks):\n",
    "    if not tasks:\n",
    "        print(\"No tasks found.\")\n",
    "    else:\n",
    "        print(\"\\nCurrent Tasks:\")\n",
    "        for i, task in enumerate(tasks, start=1):\n",
    "            print(f\"{i}. {task}\")\n",
    "        print()"
   ]
  },
  {
   "cell_type": "code",
   "execution_count": 5,
   "id": "bff1bc9b-7516-4db0-88d9-f898f81016bd",
   "metadata": {},
   "outputs": [],
   "source": [
    "def add_task(tasks):\n",
    "    new_task = input(\"Enter new task: \")\n",
    "    tasks.append(new_task)\n",
    "    print(\"Task added.\")"
   ]
  },
  {
   "cell_type": "code",
   "execution_count": 6,
   "id": "16b0d780-abbc-49af-a6e9-fbafe15df2c3",
   "metadata": {},
   "outputs": [],
   "source": [
    "def delete_task(tasks):\n",
    "    display_tasks(tasks)\n",
    "    try:\n",
    "        task_num = int(input(\"Enter task number to delete: \"))\n",
    "        if 1 <= task_num <= len(tasks):\n",
    "            removed = tasks.pop(task_num - 1)\n",
    "            print(f\"Task '{removed}' deleted.\")\n",
    "        else:\n",
    "            print(\"Invalid task number.\")\n",
    "    except ValueError:\n",
    "        print(\"Please enter a valid number.\")"
   ]
  },
  {
   "cell_type": "code",
   "execution_count": 7,
   "id": "a607bccb-ca83-4904-a161-adadfaa37cea",
   "metadata": {},
   "outputs": [
    {
     "name": "stdout",
     "output_type": "stream",
     "text": [
      "\n",
      "To-Do List Menu:\n",
      "1. View Tasks\n",
      "2. Add Task\n",
      "3. Delete Task\n",
      "4. Exit\n"
     ]
    },
    {
     "name": "stdin",
     "output_type": "stream",
     "text": [
      "Choose an option (1-4):  2\n",
      "Enter new task:  2\n"
     ]
    },
    {
     "name": "stdout",
     "output_type": "stream",
     "text": [
      "Task added.\n",
      "\n",
      "To-Do List Menu:\n",
      "1. View Tasks\n",
      "2. Add Task\n",
      "3. Delete Task\n",
      "4. Exit\n"
     ]
    },
    {
     "name": "stdin",
     "output_type": "stream",
     "text": [
      "Choose an option (1-4):  4\n"
     ]
    },
    {
     "name": "stdout",
     "output_type": "stream",
     "text": [
      "Tasks saved. Goodbye!\n"
     ]
    }
   ],
   "source": [
    "def main():\n",
    "    tasks = load_tasks()\n",
    "\n",
    "    while True:\n",
    "        print(\"\\nTo-Do List Menu:\")\n",
    "        print(\"1. View Tasks\")\n",
    "        print(\"2. Add Task\")\n",
    "        print(\"3. Delete Task\")\n",
    "        print(\"4. Exit\")\n",
    "\n",
    "        choice = input(\"Choose an option (1-4): \")\n",
    "\n",
    "        if choice == \"1\":\n",
    "            display_tasks(tasks)\n",
    "        elif choice == \"2\":\n",
    "            add_task(tasks)\n",
    "        elif choice == \"3\":\n",
    "            delete_task(tasks)\n",
    "        elif choice == \"4\":\n",
    "            save_tasks(tasks)\n",
    "            print(\"Tasks saved. Goodbye!\")\n",
    "            break\n",
    "        else:\n",
    "            print(\"Invalid choice. Try again.\")\n",
    "\n",
    "if __name__ == \"__main__\":\n",
    "    main()"
   ]
  },
  {
   "cell_type": "code",
   "execution_count": null,
   "id": "c66ef110-ab7d-4f74-bb22-89bcebdc7355",
   "metadata": {},
   "outputs": [],
   "source": []
  }
 ],
 "metadata": {
  "kernelspec": {
   "display_name": "Python 3 (ipykernel)",
   "language": "python",
   "name": "python3"
  },
  "language_info": {
   "codemirror_mode": {
    "name": "ipython",
    "version": 3
   },
   "file_extension": ".py",
   "mimetype": "text/x-python",
   "name": "python",
   "nbconvert_exporter": "python",
   "pygments_lexer": "ipython3",
   "version": "3.12.4"
  }
 },
 "nbformat": 4,
 "nbformat_minor": 5
}
