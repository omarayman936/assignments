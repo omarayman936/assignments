{
 "cells": [
  {
   "cell_type": "code",
   "execution_count": 1,
   "id": "74a356eb-d9af-4e78-a2f1-ceaed7c64ed7",
   "metadata": {},
   "outputs": [],
   "source": [
    "def add(x, y):\n",
    "    return x + y"
   ]
  },
  {
   "cell_type": "code",
   "execution_count": 2,
   "id": "50ed0c14-5f13-4836-a18d-cbfc34ebda50",
   "metadata": {},
   "outputs": [],
   "source": [
    "def subtract(x, y):\n",
    "    return x - y"
   ]
  },
  {
   "cell_type": "code",
   "execution_count": 3,
   "id": "a828fe38-0527-4c9c-a62c-1137b63678aa",
   "metadata": {},
   "outputs": [],
   "source": [
    "def multiply(x, y):\n",
    "    return x * y"
   ]
  },
  {
   "cell_type": "code",
   "execution_count": 4,
   "id": "8f45b359-0afd-46ab-baf6-08504e035965",
   "metadata": {},
   "outputs": [],
   "source": [
    "def divide(x, y):\n",
    "    if y == 0:\n",
    "        return \"we can,t divided by zero\"\n",
    "    return x / y"
   ]
  },
  {
   "cell_type": "code",
   "execution_count": 6,
   "id": "50c81f0c-20d1-41f2-9f5c-0fbb25af090e",
   "metadata": {},
   "outputs": [
    {
     "name": "stdout",
     "output_type": "stream",
     "text": [
      "choose number of  operation\n",
      "1-addition\n",
      "2-subtraction\n",
      "3-multiple\n",
      "4-division\n"
     ]
    }
   ],
   "source": [
    "print(\"choose number of  operation\")\n",
    "print(\"1-addition\")\n",
    "print(\"2-subtraction\")\n",
    "print(\"3-multiple\")\n",
    "print(\"4-division\")"
   ]
  },
  {
   "cell_type": "code",
   "execution_count": 9,
   "id": "f86a5e3e-5bcf-456a-b972-954070b9846e",
   "metadata": {},
   "outputs": [
    {
     "name": "stdin",
     "output_type": "stream",
     "text": [
      "enter number of operation 4\n",
      "enter first number  6\n",
      "enter second number   3\n"
     ]
    }
   ],
   "source": [
    "\n",
    "choice = input(\"enter number of operation\")\n",
    "\n",
    "num1 = float(input(\"enter first number \"))\n",
    "num2 = float(input(\"enter second number  \"))"
   ]
  },
  {
   "cell_type": "code",
   "execution_count": 10,
   "id": "2c10ae75-0ba1-4531-9fb7-2ccf804279c6",
   "metadata": {},
   "outputs": [
    {
     "name": "stdout",
     "output_type": "stream",
     "text": [
      "اthe result is  2.0\n"
     ]
    }
   ],
   "source": [
    "\n",
    "if choice == '1':\n",
    "    print(\"اthe result is \", add(num1, num2))\n",
    "elif choice == '2':\n",
    "    print(\"the result is \", subtract(num1, num2))\n",
    "elif choice == '3':\n",
    "    print(\"the result is \", multiply(num1, num2))\n",
    "elif choice == '4':\n",
    "    print(\"اthe result is \", divide(num1, num2))\n",
    "else:\n",
    "    print(\"invalid number \")"
   ]
  },
  {
   "cell_type": "code",
   "execution_count": null,
   "id": "6f4f5706-22b0-4983-b751-01bcdc839212",
   "metadata": {},
   "outputs": [],
   "source": []
  }
 ],
 "metadata": {
  "kernelspec": {
   "display_name": "Python 3 (ipykernel)",
   "language": "python",
   "name": "python3"
  },
  "language_info": {
   "codemirror_mode": {
    "name": "ipython",
    "version": 3
   },
   "file_extension": ".py",
   "mimetype": "text/x-python",
   "name": "python",
   "nbconvert_exporter": "python",
   "pygments_lexer": "ipython3",
   "version": "3.12.4"
  }
 },
 "nbformat": 4,
 "nbformat_minor": 5
}
